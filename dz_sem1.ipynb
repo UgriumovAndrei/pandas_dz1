{
 "cells": [
  {
   "cell_type": "markdown",
   "id": "7e8aaad2",
   "metadata": {},
   "source": [
    "## Условие1\n",
    "Номер задачи - заголовок 2\n",
    "Номер подзадачи - заголовок 3"
   ]
  },
  {
   "cell_type": "markdown",
   "id": "1ac1e58e",
   "metadata": {},
   "source": [
    "## Условие 2"
   ]
  },
  {
   "cell_type": "markdown",
   "id": "1feac895",
   "metadata": {},
   "source": [
    "### На складе лежат разные фрукты в разном количестве. Нужно написать функцию, которая на вход принимает любое количество названий фруктов и их количество, а возвращает общее количество фруктов на складе"
   ]
  },
  {
   "cell_type": "code",
   "execution_count": 5,
   "id": "ae336d70",
   "metadata": {},
   "outputs": [],
   "source": [
    "def kol_fruits(**kwargs):\n",
    "    summ = 0 \n",
    "    for k in kwargs.values():\n",
    "        summ+=k\n",
    "    return summ\n",
    "        "
   ]
  },
  {
   "cell_type": "code",
   "execution_count": 6,
   "id": "6c89350a",
   "metadata": {},
   "outputs": [
    {
     "data": {
      "text/plain": [
       "20"
      ]
     },
     "execution_count": 6,
     "metadata": {},
     "output_type": "execute_result"
    }
   ],
   "source": [
    "p=kol_fruits(mango=3, banan= 15, apple=2)\n",
    "p"
   ]
  },
  {
   "cell_type": "markdown",
   "id": "c6f0da3e",
   "metadata": {},
   "source": [
    "## Условие 3"
   ]
  },
  {
   "cell_type": "markdown",
   "id": "67c93d4f",
   "metadata": {},
   "source": [
    "### Дан список с затратами на рекламу. Но в данных есть ошибки, некоторые затраты имеют отрицательную величину. Удалите такие значения из списка и посчитайте суммарные затраты"
   ]
  },
  {
   "cell_type": "code",
   "execution_count": 8,
   "id": "29e6a8fe",
   "metadata": {},
   "outputs": [],
   "source": [
    "add_expenses = [100, 125, -90, 345, 655, -1, 0, 200]"
   ]
  },
  {
   "cell_type": "code",
   "execution_count": 11,
   "id": "40209003",
   "metadata": {},
   "outputs": [],
   "source": [
    "new_exp =[i for i in add_expenses if i>0]"
   ]
  },
  {
   "cell_type": "code",
   "execution_count": 13,
   "id": "91c37451",
   "metadata": {},
   "outputs": [
    {
     "data": {
      "text/plain": [
       "1425"
      ]
     },
     "execution_count": 13,
     "metadata": {},
     "output_type": "execute_result"
    }
   ],
   "source": [
    "sum(new_exp)"
   ]
  },
  {
   "cell_type": "markdown",
   "id": "e4fd4521",
   "metadata": {},
   "source": [
    "## Условие 4.1:\n",
    "Даны два списка.\n",
    "Дата покупки\n",
    "['2021-09-14', '2021-12-15', '2021-09-08', '2021-12-05', '2021-10-09', '2021-09-30', '2021-12-22', '2021-11-29', '2021-12-24', '2021-11-26', '2021-10-27', '2021-12-18', '2021-11-09', '2021-11-23', '2021-09-27', '2021-10-02', '2021-12-27', '2021-09-20', '2021-12-13', '2021-11-01', '2021-11-09', '2021-12-06', '2021-12-08', '2021-10-09', '2021-10-31', '2021-09-30', '2021-11-09', '2021-12-13', '2021-10-26', '2021-12-09']\n",
    "Суммы покупок по датам\n",
    "[1270, 8413, 9028, 3703, 5739, 4095, 295, 4944, 5723, 3701, 4471, 651, 7037, 4274, 6275, 4988, 6930, 2971, 6592, 2004, 2822, 519, 3406, 2732, 5015, 2008, 316, 6333, 5700, 2887]"
   ]
  },
  {
   "cell_type": "markdown",
   "id": "c5f40ce6",
   "metadata": {},
   "source": [
    "### 4.1 Найдите, какая выручка у компании в ноябре"
   ]
  },
  {
   "cell_type": "code",
   "execution_count": 14,
   "id": "e23bd9e5",
   "metadata": {},
   "outputs": [],
   "source": [
    "date_purchase = ['2021-09-14', '2021-12-15', '2021-09-08', '2021-12-05', '2021-10-09', '2021-09-30', '2021-12-22', '2021-11-29', '2021-12-24', '2021-11-26', '2021-10-27', '2021-12-18', '2021-11-09', '2021-11-23', '2021-09-27', '2021-10-02', '2021-12-27', '2021-09-20', '2021-12-13', '2021-11-01', '2021-11-09', '2021-12-06', '2021-12-08', '2021-10-09', '2021-10-31', '2021-09-30', '2021-11-09', '2021-12-13', '2021-10-26', '2021-12-09']"
   ]
  },
  {
   "cell_type": "code",
   "execution_count": 19,
   "id": "084fef58",
   "metadata": {},
   "outputs": [],
   "source": [
    "sum_purchase = [1270, 8413, 9028, 3703, 5739, 4095, 295, 4944, 5723, 3701, 4471, 651, 7037, 4274, 6275, 4988, 6930, 2971, 6592, 2004, 2822, 519, 3406, 2732, 5015, 2008, 316, 6333, 5700, 2887]"
   ]
  },
  {
   "cell_type": "code",
   "execution_count": 22,
   "id": "0a33de66",
   "metadata": {},
   "outputs": [
    {
     "data": {
      "text/plain": [
       "25098"
      ]
     },
     "execution_count": 22,
     "metadata": {},
     "output_type": "execute_result"
    }
   ],
   "source": [
    "p = [sum_purchase[i] for i in range(len(sum_purchase)) if date_purchase[i][5:7]=='11']\n",
    "sum(p)"
   ]
  },
  {
   "cell_type": "markdown",
   "id": "e095c698",
   "metadata": {},
   "source": [
    "### 4.2 Найдите выручку компании в зависимости от месяца\n",
    "Для этого напишите функцию, которая на вход принимает список с датами и список с выручкой, а на выходе словарь, где ключи - это месяцы, а значения - это выручка.\n",
    "Используйте аннотирование типов.\n"
   ]
  },
  {
   "cell_type": "code",
   "execution_count": 30,
   "id": "d84a60ef",
   "metadata": {},
   "outputs": [],
   "source": [
    "def sum_mes(dates:list,profit:list)->dict:\n",
    "    res = {}\n",
    "    for i in range(len(dates)):\n",
    "        temp = 0\n",
    "        key = dates[i][5:7]\n",
    "        if key in res.keys():\n",
    "            temp = profit[i] + res[key]\n",
    "            res[key] = temp\n",
    "        else:\n",
    "            res[key]= profit[i]\n",
    "    return res\n",
    "        \n",
    "    "
   ]
  },
  {
   "cell_type": "code",
   "execution_count": 31,
   "id": "c5f2a949",
   "metadata": {},
   "outputs": [
    {
     "data": {
      "text/plain": [
       "{'09': 25647, '12': 45452, '10': 28645, '11': 25098}"
      ]
     },
     "execution_count": 31,
     "metadata": {},
     "output_type": "execute_result"
    }
   ],
   "source": [
    "sum_mes(date_purchase,sum_purchase)"
   ]
  }
 ],
 "metadata": {
  "kernelspec": {
   "display_name": "Python 3 (ipykernel)",
   "language": "python",
   "name": "python3"
  },
  "language_info": {
   "codemirror_mode": {
    "name": "ipython",
    "version": 3
   },
   "file_extension": ".py",
   "mimetype": "text/x-python",
   "name": "python",
   "nbconvert_exporter": "python",
   "pygments_lexer": "ipython3",
   "version": "3.10.1"
  }
 },
 "nbformat": 4,
 "nbformat_minor": 5
}
